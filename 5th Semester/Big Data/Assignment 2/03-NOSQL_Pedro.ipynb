{
 "cells": [
  {
   "cell_type": "markdown",
   "metadata": {
    "deletable": false,
    "editable": false,
    "nbgrader": {
     "cell_type": "markdown",
     "checksum": "233f6472e2a98fe08719f139d68e613b",
     "grade": false,
     "grade_id": "cell-6998d2ce1af98da0",
     "locked": true,
     "schema_version": 3,
     "solution": false
    }
   },
   "source": [
    "# Tutorial 3: NoSQL"
   ]
  },
  {
   "cell_type": "markdown",
   "metadata": {
    "deletable": false,
    "editable": false,
    "nbgrader": {
     "cell_type": "markdown",
     "checksum": "ac9e89fd3943c9ae7798c6ca7f690f2c",
     "grade": false,
     "grade_id": "cell-f5e14f71b221783f",
     "locked": true,
     "schema_version": 3,
     "solution": false
    }
   },
   "source": [
    "__The goal of this assignment is to create 10 \"queries\" based on 2 NoSQL databases.__\n",
    "\n",
    "I put queries in quotes, as these databases do not provide a declarative query language such as SQL.\n",
    "\n",
    "Instead, you must rely on the database API to extract information and combine the results with some Python code.\n",
    "\n",
    "During this tutorial, I encourage you to consider the pros and cons of each databases compared to relational databases.\n",
    "\n",
    "__The first database: imdb_basics.shelve contains the movies records of IMDB (basics)__.\n",
    "\n",
    "This database is stored using `shelve`, a module of Python standard library.\n",
    "\n",
    "`shelve` is a simple Key-Value store that acts as a persistent dictionary.\n",
    "\n",
    "This is the same model as:\n",
    "- Redis\n",
    "- Memcached\n",
    "- Google LevelDB\n",
    "- Amazon DynamoDB\n",
    "- Facebook RocksDB\n",
    "\n",
    "__The second database: (imdb.json) contains the person records of IMDB (names)__.\n",
    "\n",
    "This database is stored using `tinymongo`, a drop in replacement for MongoDB.\n",
    "\n",
    "`tinymongo` is a Document store that provides query methods on JSON docs.\n",
    "\n",
    "This is the same model as:\n",
    "- MongoDB\n",
    "- CouchDB\n",
    "- ArangoDB\n",
    "- RethinkDB\n",
    "- ElasticSearch\n",
    "\n",
    "__These two data models are [the most popular ones](https://db-engines.com/en/ranking) and they are also used to create more [advanced data model](https://github.com/datathings/greycat/tree/master/plugins)__.\n",
    "\n",
    "__Grade scale__: 20 points\n",
    "- correct query: 2 point\n",
    "- incorrect query: 0 points\n",
    "\n",
    "__Further documentations__:\n",
    "* https://www.imdb.com/interfaces/\n",
    "* https://learnxinyminutes.com/docs/python/\n",
    "* https://github.com/schapman1974/tinymongo/\n",
    "* https://docs.python.org/3.6/library/shelve.html"
   ]
  },
  {
   "cell_type": "markdown",
   "metadata": {
    "deletable": false,
    "editable": false,
    "nbgrader": {
     "cell_type": "markdown",
     "checksum": "a22b1722fe62757596babaf2f7ff2e1a",
     "grade": false,
     "grade_id": "cell-7a592d1202be30f1",
     "locked": true,
     "schema_version": 3,
     "solution": false
    }
   },
   "source": [
    "# Core"
   ]
  },
  {
   "cell_type": "code",
   "execution_count": 1,
   "metadata": {
    "deletable": false,
    "editable": false,
    "nbgrader": {
     "cell_type": "code",
     "checksum": "7eae72d2939efdee30c1436425ed8fc4",
     "grade": false,
     "grade_id": "cell-be7cbfcf3eaa1a0f",
     "locked": true,
     "schema_version": 3,
     "solution": false
    }
   },
   "outputs": [],
   "source": [
    "# import shelve from standard library\n",
    "import shelve\n",
    "\n",
    "# open a connection to shelve database\n",
    "basics = shelve.open('imdb_basics.shelve', 'r')"
   ]
  },
  {
   "cell_type": "code",
   "execution_count": 2,
   "metadata": {
    "deletable": false,
    "editable": false,
    "nbgrader": {
     "cell_type": "code",
     "checksum": "8ed55f2b69f6c063008990b4d617be81",
     "grade": false,
     "grade_id": "cell-bf05b5a0a7054ebc",
     "locked": true,
     "schema_version": 3,
     "solution": false
    }
   },
   "outputs": [],
   "source": [
    "# import shelve from external dependency\n",
    "from tinymongo import TinyMongoClient\n",
    "\n",
    "# open a connection to tinymongo database\n",
    "names = TinyMongoClient('.').imdb.names"
   ]
  },
  {
   "cell_type": "markdown",
   "metadata": {
    "deletable": false,
    "editable": false,
    "nbgrader": {
     "cell_type": "markdown",
     "checksum": "67732e012061c48a703d17822e71c235",
     "grade": false,
     "grade_id": "cell-20faa94a536d9206",
     "locked": true,
     "schema_version": 3,
     "solution": false
    }
   },
   "source": [
    "# Examples"
   ]
  },
  {
   "cell_type": "code",
   "execution_count": 3,
   "metadata": {
    "deletable": false,
    "editable": false,
    "nbgrader": {
     "cell_type": "code",
     "checksum": "226b4441397a84171a53cb3b2dc1465f",
     "grade": false,
     "grade_id": "cell-e42ea62d5a1c16d7",
     "locked": true,
     "schema_version": 3,
     "solution": false
    }
   },
   "outputs": [
    {
     "data": {
      "text/plain": [
       "['tt0100275',\n",
       " 'tt0112502',\n",
       " 'tt0137204',\n",
       " 'tt0331314',\n",
       " 'tt0339736',\n",
       " 'tt0366415',\n",
       " 'tt0368133',\n",
       " 'tt0451201',\n",
       " 'tt0451279',\n",
       " 'tt0460890',\n",
       " 'tt0491175',\n",
       " 'tt0491203',\n",
       " 'tt0493405',\n",
       " 'tt0498381',\n",
       " 'tt0835802',\n",
       " 'tt0874268',\n",
       " 'tt0937225',\n",
       " 'tt0974015',\n",
       " 'tt1020581',\n",
       " 'tt1024855']"
      ]
     },
     "execution_count": 3,
     "metadata": {},
     "output_type": "execute_result"
    }
   ],
   "source": [
    "# get the first 20 keys from basics collection\n",
    "list(basics.keys())[:20]"
   ]
  },
  {
   "cell_type": "code",
   "execution_count": 4,
   "metadata": {
    "deletable": false,
    "editable": false,
    "nbgrader": {
     "cell_type": "code",
     "checksum": "d1294664e1e62ee2048210808394a8e0",
     "grade": false,
     "grade_id": "cell-cecffdb62e7aebfe",
     "locked": true,
     "schema_version": 3,
     "solution": false
    }
   },
   "outputs": [
    {
     "data": {
      "text/plain": [
       "{'_id': 'tt0100275',\n",
       " 'titleType': 'movie',\n",
       " 'primaryTitle': 'The Wandering Soap Opera',\n",
       " 'originalTitle': 'La Telenovela Errante',\n",
       " 'isAdult': 0,\n",
       " 'startYear': 2017,\n",
       " 'endYear': None,\n",
       " 'runtimeMinutes': 80,\n",
       " 'genres': ['Comedy', 'Drama', 'Fantasy']}"
      ]
     },
     "execution_count": 4,
     "metadata": {},
     "output_type": "execute_result"
    }
   ],
   "source": [
    "# get the first item from the basics collection\n",
    "basics['tt0100275']"
   ]
  },
  {
   "cell_type": "code",
   "execution_count": 5,
   "metadata": {
    "deletable": false,
    "editable": false,
    "nbgrader": {
     "cell_type": "code",
     "checksum": "950ab9762c71adc4daa55ab1737ab1eb",
     "grade": false,
     "grade_id": "cell-e1f3151cb0be6e26",
     "locked": true,
     "schema_version": 3,
     "solution": false
    }
   },
   "outputs": [
    {
     "data": {
      "text/plain": [
       "{'_id': 'nm7691973',\n",
       " 'primaryName': 'Baste Granfon',\n",
       " 'birthYear': 2012,\n",
       " 'deathYear': None,\n",
       " 'knownForTitles': ['tt7736492', 'tt5577086', 'tt6766834', 'tt8207358'],\n",
       " 'primaryProfession': ['actor']}"
      ]
     },
     "execution_count": 5,
     "metadata": {},
     "output_type": "execute_result"
    }
   ],
   "source": [
    "# get the first item from the names collection\n",
    "names.find_one()"
   ]
  },
  {
   "cell_type": "markdown",
   "metadata": {
    "deletable": false,
    "editable": false,
    "nbgrader": {
     "cell_type": "markdown",
     "checksum": "36542ed1fd05c14b67cdb83e579d8cea",
     "grade": false,
     "grade_id": "cell-a0a007dafd42dbea",
     "locked": true,
     "schema_version": 3,
     "solution": false
    }
   },
   "source": [
    "# Queries"
   ]
  },
  {
   "cell_type": "markdown",
   "metadata": {
    "collapsed": true,
    "deletable": false,
    "editable": false,
    "nbgrader": {
     "cell_type": "markdown",
     "checksum": "3e6d8a3630946100907d8e21cb19049e",
     "grade": false,
     "grade_id": "cell-d1b0224c8f860e4a",
     "locked": true,
     "schema_version": 3,
     "solution": false
    }
   },
   "source": [
    "__1. How many movies are in the `basics` collection ?__\n",
    "- __hint__: you don't have to use a loop to answer this query\n",
    "- __return__: Count (where Count = int)"
   ]
  },
  {
   "cell_type": "code",
   "execution_count": 6,
   "metadata": {
    "deletable": false,
    "nbgrader": {
     "cell_type": "code",
     "checksum": "0548726aba477185926b825ea6338606",
     "grade": false,
     "grade_id": "cell-ed73e2be3e703d89",
     "locked": false,
     "schema_version": 3,
     "solution": true
    }
   },
   "outputs": [
    {
     "data": {
      "text/plain": [
       "18199"
      ]
     },
     "execution_count": 6,
     "metadata": {},
     "output_type": "execute_result"
    }
   ],
   "source": [
    "def Q1():\n",
    "    # YOUR CODE HERE\n",
    "    return len(list(basics.keys()))\n",
    "\n",
    "Q1()"
   ]
  },
  {
   "cell_type": "code",
   "execution_count": 7,
   "metadata": {
    "deletable": false,
    "editable": false,
    "nbgrader": {
     "cell_type": "code",
     "checksum": "57c951c6c6b941589b2148dce368349b",
     "grade": true,
     "grade_id": "cell-610479179ac3aa45",
     "locked": true,
     "points": 2,
     "schema_version": 3,
     "solution": false
    }
   },
   "outputs": [],
   "source": [
    "assert isinstance(Q1(), int)"
   ]
  },
  {
   "cell_type": "markdown",
   "metadata": {
    "collapsed": true,
    "deletable": false,
    "editable": false,
    "nbgrader": {
     "cell_type": "markdown",
     "checksum": "928ad8022104f43f4b91fd289d68280d",
     "grade": false,
     "grade_id": "cell-405c14a89a7385d9",
     "locked": true,
     "schema_version": 3,
     "solution": false
    }
   },
   "source": [
    "__2. Select the record associated to the movie whose primaryTitle is 'Blade Runner 2049'__\n",
    "* __hints__: you have to use method the database provides\n",
    "* __return__: Record (where Record = Dict[str, Any])"
   ]
  },
  {
   "cell_type": "code",
   "execution_count": 8,
   "metadata": {
    "deletable": false,
    "nbgrader": {
     "cell_type": "code",
     "checksum": "4ccf0897d1b4def7490016df82bd4a7e",
     "grade": false,
     "grade_id": "cell-e58d8a8565370bfa",
     "locked": false,
     "schema_version": 3,
     "solution": true
    }
   },
   "outputs": [
    {
     "data": {
      "text/plain": [
       "{'_id': 'tt1856101',\n",
       " 'titleType': 'movie',\n",
       " 'primaryTitle': 'Blade Runner 2049',\n",
       " 'originalTitle': 'Blade Runner 2049',\n",
       " 'isAdult': 0,\n",
       " 'startYear': 2017,\n",
       " 'endYear': None,\n",
       " 'runtimeMinutes': 164,\n",
       " 'genres': ['Drama', 'Mystery', 'Sci-Fi']}"
      ]
     },
     "execution_count": 8,
     "metadata": {},
     "output_type": "execute_result"
    }
   ],
   "source": [
    "def Q2():\n",
    "    for key in basics:\n",
    "        if basics[key][\"primaryTitle\"] == \"Blade Runner 2049\":\n",
    "            return basics[key]\n",
    "\n",
    "Q2()"
   ]
  },
  {
   "cell_type": "code",
   "execution_count": 9,
   "metadata": {
    "deletable": false,
    "editable": false,
    "nbgrader": {
     "cell_type": "code",
     "checksum": "70c9ddc0c047ea3e7f94beb44d0b7e03",
     "grade": true,
     "grade_id": "cell-b8841a1fe6ff032f",
     "locked": true,
     "points": 2,
     "schema_version": 3,
     "solution": false
    }
   },
   "outputs": [],
   "source": [
    "assert isinstance(Q2(), dict)\n",
    "assert Q2()['primaryTitle'] == 'Blade Runner 2049'"
   ]
  },
  {
   "cell_type": "markdown",
   "metadata": {
    "collapsed": true,
    "deletable": false,
    "editable": false,
    "nbgrader": {
     "cell_type": "markdown",
     "checksum": "f3215554974023c3dba44d6dea27d0b3",
     "grade": false,
     "grade_id": "cell-22f2f4f7e208f548",
     "locked": true,
     "schema_version": 3,
     "solution": false
    }
   },
   "source": [
    "__3. Select the primary title and runtime of every movies longer than 300 minutes (excluded)__\n",
    "* __hint__: you have to construct your own return value\n",
    "* __return__: List[Tuple[primaryTitle, runtimeMinutes]] (where primaryTitle = str, runtimeMinutes=int)"
   ]
  },
  {
   "cell_type": "code",
   "execution_count": 10,
   "metadata": {
    "deletable": false,
    "nbgrader": {
     "cell_type": "code",
     "checksum": "8edb5ee9929504420675cac9c19fdb68",
     "grade": false,
     "grade_id": "cell-824c1acfafdceedf",
     "locked": false,
     "schema_version": 3,
     "solution": true
    }
   },
   "outputs": [
    {
     "data": {
      "text/plain": [
       "[('Who was Hitler', 450),\n",
       " ('Painting', 360),\n",
       " ('Next Stop', 406),\n",
       " ('Mazwara', 788),\n",
       " ('h36:', 2160),\n",
       " ('Stuck', 360),\n",
       " ('Nari', 6017),\n",
       " ('Europa: The Last Battle', 746),\n",
       " ('Sakhi', 1179),\n",
       " ('An Infants Journey: Reggio Emilia Approach', 912),\n",
       " ('1998: The Deadliest Year For Children In American History', 396),\n",
       " ('Laundry', 359),\n",
       " ('Make Me Fly', 623),\n",
       " ('Bullfighting Memories', 1100)]"
      ]
     },
     "execution_count": 10,
     "metadata": {},
     "output_type": "execute_result"
    }
   ],
   "source": [
    "def Q3():\n",
    "    final_list = list()\n",
    "    for key in basics:\n",
    "        if basics[key][\"runtimeMinutes\"] and basics[key][\"runtimeMinutes\"] > 300:\n",
    "            final_list.append((basics[key][\"primaryTitle\"], basics[key][\"runtimeMinutes\"]))\n",
    "    return final_list\n",
    "\n",
    "Q3()"
   ]
  },
  {
   "cell_type": "code",
   "execution_count": 11,
   "metadata": {
    "deletable": false,
    "editable": false,
    "nbgrader": {
     "cell_type": "code",
     "checksum": "46f0f9f46a23ea5d8b0fe0ae27c06631",
     "grade": true,
     "grade_id": "cell-92156cd5f8035a2e",
     "locked": true,
     "points": 2,
     "schema_version": 3,
     "solution": false
    }
   },
   "outputs": [],
   "source": [
    "assert len(Q3()) == 14\n",
    "assert all(len(row) == 2 and row[1] > 300 for row in Q3())"
   ]
  },
  {
   "cell_type": "markdown",
   "metadata": {
    "collapsed": true,
    "deletable": false,
    "editable": false,
    "nbgrader": {
     "cell_type": "markdown",
     "checksum": "8df670c8e277913e821fc33d0a7e3e5b",
     "grade": false,
     "grade_id": "cell-9e7bb67585747189",
     "locked": true,
     "schema_version": 3,
     "solution": false
    }
   },
   "source": [
    "__4. Select the record in the `names` collection associated to \\_id 'nm0705356'__\n",
    "* __hint__: use `find_one` to return only one record\n",
    "* __return__: Record (where Record = Dict[str, Any])"
   ]
  },
  {
   "cell_type": "code",
   "execution_count": 12,
   "metadata": {
    "deletable": false,
    "nbgrader": {
     "cell_type": "code",
     "checksum": "26e43365435594a8642c1d9173a56533",
     "grade": false,
     "grade_id": "cell-56a09933c73fe5ff",
     "locked": false,
     "schema_version": 3,
     "solution": true
    }
   },
   "outputs": [
    {
     "data": {
      "text/plain": [
       "{'_id': 'nm0705356',\n",
       " 'primaryName': 'Daniel Radcliffe',\n",
       " 'birthYear': 1989,\n",
       " 'deathYear': None,\n",
       " 'knownForTitles': ['tt0373889', 'tt4034354', 'tt0926084', 'tt1201607'],\n",
       " 'primaryProfession': ['actor', 'soundtrack', 'producer']}"
      ]
     },
     "execution_count": 12,
     "metadata": {},
     "output_type": "execute_result"
    }
   ],
   "source": [
    "def Q4():\n",
    "    return names.find_one({ \"_id\": \"nm0705356\"} )\n",
    "\n",
    "Q4()"
   ]
  },
  {
   "cell_type": "code",
   "execution_count": 13,
   "metadata": {
    "deletable": false,
    "editable": false,
    "nbgrader": {
     "cell_type": "code",
     "checksum": "be0c5b93bbbb294bfebb5c228018abc6",
     "grade": true,
     "grade_id": "cell-de600da118a6dec7",
     "locked": true,
     "points": 2,
     "schema_version": 3,
     "solution": false
    }
   },
   "outputs": [],
   "source": [
    "assert isinstance(Q4(), dict)\n",
    "assert Q4()['_id'] == 'nm0705356'"
   ]
  },
  {
   "cell_type": "markdown",
   "metadata": {
    "collapsed": true,
    "deletable": false,
    "editable": false,
    "nbgrader": {
     "cell_type": "markdown",
     "checksum": "302a3969dfe5700ab8b92f933ecf1e50",
     "grade": false,
     "grade_id": "cell-0ad2ba08867937d3",
     "locked": true,
     "schema_version": 3,
     "solution": false
    }
   },
   "source": [
    "__5. Select the primaryName of the first 20 persons born in 2000, sorted by name (descending)__\n",
    "* __hint__: use the `find` method to return multiple results\n",
    "* __return__: List[Name] (where Name = str)"
   ]
  },
  {
   "cell_type": "code",
   "execution_count": 14,
   "metadata": {
    "deletable": false,
    "nbgrader": {
     "cell_type": "code",
     "checksum": "1178db80cc1f04b0f4a68d596b6b930a",
     "grade": false,
     "grade_id": "cell-e667fccbb5d8a574",
     "locked": false,
     "schema_version": 3,
     "solution": true
    }
   },
   "outputs": [
    {
     "data": {
      "text/plain": [
       "['Zaira Wasim',\n",
       " 'Willow Shields',\n",
       " 'Viktor Derek',\n",
       " 'Tobias Nikolai Haugland',\n",
       " 'Stanislaw Cywka',\n",
       " 'Shelby Lyon',\n",
       " 'Ryan Henry Knight',\n",
       " 'Rachelle Henry',\n",
       " 'Pedro Diego',\n",
       " 'Na-Na OuYang',\n",
       " 'Moka Kamishiraishi',\n",
       " 'Minami Hamabe',\n",
       " 'Mima Ito',\n",
       " 'Max Baissette de Malglaive',\n",
       " 'Margaret Manousos',\n",
       " 'Ludvig Fahlstedt',\n",
       " 'Joshua Latorro',\n",
       " 'Jonah Bryson',\n",
       " 'Jackson Yee',\n",
       " 'G.M. Whiting']"
      ]
     },
     "execution_count": 14,
     "metadata": {},
     "output_type": "execute_result"
    }
   ],
   "source": [
    "def Q5():\n",
    "    final_list = list()\n",
    "    for name in names.find({\"birthYear\":2000}, sort=[('primaryName', -1)], skip=0, limit=20):\n",
    "        final_list.append(name[\"primaryName\"])\n",
    "    return final_list\n",
    "\n",
    "Q5()"
   ]
  },
  {
   "cell_type": "code",
   "execution_count": 15,
   "metadata": {
    "deletable": false,
    "editable": false,
    "nbgrader": {
     "cell_type": "code",
     "checksum": "56c295537cb5bc26e5e3ede8b193ee3f",
     "grade": true,
     "grade_id": "cell-038b270abaff25ce",
     "locked": true,
     "points": 2,
     "schema_version": 3,
     "solution": false
    }
   },
   "outputs": [],
   "source": [
    "assert len(Q5()) == 20\n",
    "assert all(isinstance(x, str) for x in Q5())"
   ]
  },
  {
   "cell_type": "markdown",
   "metadata": {
    "collapsed": true,
    "deletable": false,
    "editable": false,
    "nbgrader": {
     "cell_type": "markdown",
     "checksum": "524a36af4534611dc9f6775352435322",
     "grade": false,
     "grade_id": "cell-69ff748a9862f982",
     "locked": true,
     "schema_version": 3,
     "solution": false
    }
   },
   "source": [
    "__6. Select the primaryName and birthYear of persons born after 2000 (excluded) and whose name starts with the letter 'M'__\n",
    "* __hint__: use the `$and`, `$gt` and `$regex` operator of MongoDB\n",
    "* __return__: List[Tuple[primaryName, birthYear]] (where primaryName = str, birthYear = int)"
   ]
  },
  {
   "cell_type": "code",
   "execution_count": 16,
   "metadata": {
    "deletable": false,
    "nbgrader": {
     "cell_type": "code",
     "checksum": "6217cf9f42b5d1a0060a28278b89838b",
     "grade": false,
     "grade_id": "cell-b9bf55def2db660b",
     "locked": false,
     "schema_version": 3,
     "solution": true
    }
   },
   "outputs": [
    {
     "data": {
      "text/plain": [
       "[('Mckenna Grace', 2006),\n",
       " ('Moxie Jillette', 2005),\n",
       " ('Maddie Dixon-Poirier', 2005),\n",
       " ('Mana Ashida', 2004),\n",
       " ('Mujtuba Ahmed', 2004),\n",
       " ('Mariangeli Collado', 2003),\n",
       " ('Madison Wolfe', 2002),\n",
       " ('Maisa Silva', 2002),\n",
       " ('Milo Parker', 2002)]"
      ]
     },
     "execution_count": 16,
     "metadata": {},
     "output_type": "execute_result"
    }
   ],
   "source": [
    "def Q6():\n",
    "    final_list = list()\n",
    "    bornafter = names.find({'birthYear': {'$gt': 2000}})\n",
    "    for born in bornafter:\n",
    "        if born[\"primaryName\"][0] == \"M\":\n",
    "            final_list.append((born[\"primaryName\"], born[\"birthYear\"]))\n",
    "    return final_list\n",
    "\n",
    "Q6()"
   ]
  },
  {
   "cell_type": "code",
   "execution_count": 17,
   "metadata": {
    "deletable": false,
    "editable": false,
    "nbgrader": {
     "cell_type": "code",
     "checksum": "a981ed0308d9b61ccab81fd97f63565b",
     "grade": true,
     "grade_id": "cell-1cea9289869013f0",
     "locked": true,
     "points": 2,
     "schema_version": 3,
     "solution": false
    }
   },
   "outputs": [],
   "source": [
    "assert len(Q6()) == 9\n",
    "assert all(len(row) == 2 for row in Q6())\n",
    "assert all(row[1] > 2000 for row in Q6())"
   ]
  },
  {
   "cell_type": "markdown",
   "metadata": {
    "collapsed": true,
    "deletable": false,
    "editable": false,
    "nbgrader": {
     "cell_type": "markdown",
     "checksum": "92c20ad080395caba5523594a2db6cc9",
     "grade": false,
     "grade_id": "cell-723286e67c10a5ac",
     "locked": true,
     "schema_version": 3,
     "solution": false
    }
   },
   "source": [
    "__7. Compute the average movie runtime in minutes__\n",
    "* __hint__: aggregation has to be performed with code\n",
    "* __return__: Average (where Average = float)"
   ]
  },
  {
   "cell_type": "code",
   "execution_count": 18,
   "metadata": {
    "deletable": false,
    "nbgrader": {
     "cell_type": "code",
     "checksum": "c15ab7ba4a40f54a6d46c765ad0e7d82",
     "grade": false,
     "grade_id": "cell-2b3d8c908851350f",
     "locked": false,
     "schema_version": 3,
     "solution": true
    }
   },
   "outputs": [
    {
     "data": {
      "text/plain": [
       "61.72877630639046"
      ]
     },
     "execution_count": 18,
     "metadata": {},
     "output_type": "execute_result"
    }
   ],
   "source": [
    "def Q7():\n",
    "    total_minutes = 0\n",
    "    total_runtimes = 0\n",
    "    for key in basics:\n",
    "        if not basics[key][\"runtimeMinutes\"]:\n",
    "            minutes_to_add = 0\n",
    "        else:\n",
    "            minutes_to_add = basics[key][\"runtimeMinutes\"]\n",
    "        total_minutes += minutes_to_add\n",
    "        total_runtimes += 1\n",
    "    return total_minutes/total_runtimes\n",
    "Q7()"
   ]
  },
  {
   "cell_type": "code",
   "execution_count": 19,
   "metadata": {
    "deletable": false,
    "editable": false,
    "nbgrader": {
     "cell_type": "code",
     "checksum": "a84f13f8ebf081d16f82c48371e4b871",
     "grade": true,
     "grade_id": "cell-b18c8bf9308ba4ce",
     "locked": true,
     "points": 2,
     "schema_version": 3,
     "solution": false
    }
   },
   "outputs": [],
   "source": [
    "assert isinstance(Q7(), float)"
   ]
  },
  {
   "cell_type": "markdown",
   "metadata": {
    "collapsed": true,
    "deletable": false,
    "editable": false,
    "nbgrader": {
     "cell_type": "markdown",
     "checksum": "6112ba89aa26e56e36ba18b47f6b2762",
     "grade": false,
     "grade_id": "cell-dabc1ad6d9250a23",
     "locked": true,
     "schema_version": 3,
     "solution": false
    }
   },
   "source": [
    "__8. Select the primary name and the primary titles for which the first 20 persons are known for__\n",
    "* __hint__: you have to join the two database collections\n",
    "* __return__: List[Tuple[primaryName, List[primaryTitle]]] (where primaryName = primaryTitle = str)"
   ]
  },
  {
   "cell_type": "code",
   "execution_count": 20,
   "metadata": {
    "deletable": false,
    "nbgrader": {
     "cell_type": "code",
     "checksum": "ba0e95e8d355df019e0893578e71ba4b",
     "grade": false,
     "grade_id": "cell-12e87ffb9860b577",
     "locked": false,
     "schema_version": 3,
     "solution": true
    }
   },
   "outputs": [],
   "source": [
    "def Q8():\n",
    "    \"\"\"final_list = list()\n",
    "    result1 = names.find(sort=[('primaryName', -1)], skip=0, limit=20)\n",
    "    for record in result1:\n",
    "        for title in record[\"knownForTitles\"]:\n",
    "            temp_list = list()\n",
    "            if title in basics.keys():\n",
    "                \n",
    "            final_list.append((record['primaryName'], ))\"\"\"\n",
    "        \n",
    "\n",
    "Q8()"
   ]
  },
  {
   "cell_type": "code",
   "execution_count": 21,
   "metadata": {
    "deletable": false,
    "editable": false,
    "nbgrader": {
     "cell_type": "code",
     "checksum": "f506a44e299847ee1baf5a8ff1f15277",
     "grade": true,
     "grade_id": "cell-dd0fbeed69b0c018",
     "locked": true,
     "points": 2,
     "schema_version": 3,
     "solution": false
    }
   },
   "outputs": [
    {
     "ename": "TypeError",
     "evalue": "object of type 'NoneType' has no len()",
     "output_type": "error",
     "traceback": [
      "\u001b[0;31m---------------------------------------------------------------------------\u001b[0m",
      "\u001b[0;31mTypeError\u001b[0m                                 Traceback (most recent call last)",
      "\u001b[0;32m<ipython-input-21-751dcf2038cd>\u001b[0m in \u001b[0;36m<module>\u001b[0;34m\u001b[0m\n\u001b[0;32m----> 1\u001b[0;31m \u001b[0;32massert\u001b[0m \u001b[0mlen\u001b[0m\u001b[0;34m(\u001b[0m\u001b[0mQ8\u001b[0m\u001b[0;34m(\u001b[0m\u001b[0;34m)\u001b[0m\u001b[0;34m)\u001b[0m \u001b[0;34m==\u001b[0m \u001b[0;36m20\u001b[0m\u001b[0;34m\u001b[0m\u001b[0;34m\u001b[0m\u001b[0m\n\u001b[0m\u001b[1;32m      2\u001b[0m \u001b[0;32massert\u001b[0m \u001b[0mall\u001b[0m\u001b[0;34m(\u001b[0m\u001b[0mlen\u001b[0m\u001b[0;34m(\u001b[0m\u001b[0mrow\u001b[0m\u001b[0;34m)\u001b[0m \u001b[0;34m==\u001b[0m \u001b[0;36m2\u001b[0m \u001b[0;32mfor\u001b[0m \u001b[0mrow\u001b[0m \u001b[0;32min\u001b[0m \u001b[0mQ8\u001b[0m\u001b[0;34m(\u001b[0m\u001b[0;34m)\u001b[0m\u001b[0;34m)\u001b[0m\u001b[0;34m\u001b[0m\u001b[0;34m\u001b[0m\u001b[0m\n",
      "\u001b[0;31mTypeError\u001b[0m: object of type 'NoneType' has no len()"
     ]
    }
   ],
   "source": [
    "assert len(Q8()) == 20\n",
    "assert all(len(row) == 2 for row in Q8())"
   ]
  },
  {
   "cell_type": "markdown",
   "metadata": {
    "collapsed": true,
    "deletable": false,
    "editable": false,
    "nbgrader": {
     "cell_type": "markdown",
     "checksum": "cff543eb05c9d7c46990be7256cecaa2",
     "grade": false,
     "grade_id": "cell-dfb3b7e8605f104d",
     "locked": true,
     "schema_version": 3,
     "solution": false
    }
   },
   "source": [
    "__9. Select a sorted (ascending) and distinct list of movie genres__\n",
    "* __hint__: Python provides a `set` structure and `sorted` function\n",
    "* __return__: List[Genre] (where Genre = str)"
   ]
  },
  {
   "cell_type": "code",
   "execution_count": 22,
   "metadata": {
    "deletable": false,
    "nbgrader": {
     "cell_type": "code",
     "checksum": "72a5f39f9fb34fee1faeeaaaa2cd32b0",
     "grade": false,
     "grade_id": "cell-e11e8ea4e390320a",
     "locked": false,
     "schema_version": 3,
     "solution": true
    }
   },
   "outputs": [
    {
     "data": {
      "text/plain": [
       "['Action',\n",
       " 'Adult',\n",
       " 'Adventure',\n",
       " 'Animation',\n",
       " 'Biography',\n",
       " 'Comedy',\n",
       " 'Crime',\n",
       " 'Documentary',\n",
       " 'Drama',\n",
       " 'Family',\n",
       " 'Fantasy',\n",
       " 'Game-Show',\n",
       " 'History',\n",
       " 'Horror',\n",
       " 'Music',\n",
       " 'Musical',\n",
       " 'Mystery',\n",
       " 'News',\n",
       " 'Reality-TV',\n",
       " 'Romance',\n",
       " 'Sci-Fi',\n",
       " 'Short',\n",
       " 'Sport',\n",
       " 'Talk-Show',\n",
       " 'Thriller',\n",
       " 'War',\n",
       " 'Western']"
      ]
     },
     "execution_count": 22,
     "metadata": {},
     "output_type": "execute_result"
    }
   ],
   "source": [
    "def Q9():\n",
    "    final_set = set()\n",
    "    for key in basics:\n",
    "        for genre in basics[key][\"genres\"]:\n",
    "            if genre not in final_set:\n",
    "                final_set.add(genre)\n",
    "    return sorted(final_set)\n",
    "\n",
    "Q9()"
   ]
  },
  {
   "cell_type": "code",
   "execution_count": 23,
   "metadata": {
    "deletable": false,
    "editable": false,
    "nbgrader": {
     "cell_type": "code",
     "checksum": "23f85380f81b1ba4498febf54133ba36",
     "grade": true,
     "grade_id": "cell-5c6cf9a4dd9a067a",
     "locked": true,
     "points": 2,
     "schema_version": 3,
     "solution": false
    }
   },
   "outputs": [],
   "source": [
    "assert len(Q9()) == 27\n",
    "assert all(isinstance(x, str) for x in Q9())"
   ]
  },
  {
   "cell_type": "markdown",
   "metadata": {
    "collapsed": true,
    "deletable": false,
    "editable": false,
    "nbgrader": {
     "cell_type": "markdown",
     "checksum": "3ed126a103e1767846211fb60ec7d359",
     "grade": false,
     "grade_id": "cell-b426b059d27d0d37",
     "locked": true,
     "schema_version": 3,
     "solution": false
    }
   },
   "source": [
    "__10. Select number of distinct movies for which a person is known for and which exists in the `basics` collection__\n",
    "- __hint__: I insist on the distinct and exists word in the question\n",
    "- __return__: Count (where Count = int)"
   ]
  },
  {
   "cell_type": "code",
   "execution_count": null,
   "metadata": {
    "deletable": false,
    "nbgrader": {
     "cell_type": "code",
     "checksum": "cd9dd63fa24240b083317313be0f6c77",
     "grade": false,
     "grade_id": "cell-2251a150ede884cd",
     "locked": false,
     "schema_version": 3,
     "solution": true
    }
   },
   "outputs": [],
   "source": [
    "def Q10():\n",
    "    # YOUR CODE HERE\n",
    "    total_number = 0\n",
    "    handled_titles = list()\n",
    "    final_list = list()\n",
    "    for name in names.find(sort=[('primaryName', -1)]):\n",
    "        temp_titles = list()\n",
    "        for title in name[\"knownForTitles\"]:\n",
    "            if title not in handled_titles:\n",
    "                handled_titles.append(title)\n",
    "                if title in list(basics.keys()):\n",
    "                    total_number += 1\n",
    "    return total_number\n",
    "Q10()"
   ]
  },
  {
   "cell_type": "code",
   "execution_count": null,
   "metadata": {
    "deletable": false,
    "editable": false,
    "nbgrader": {
     "cell_type": "code",
     "checksum": "22230846ca94cef894bbd5fc63d2cdf5",
     "grade": true,
     "grade_id": "cell-eee5133254e9654b",
     "locked": true,
     "points": 2,
     "schema_version": 3,
     "solution": false
    }
   },
   "outputs": [],
   "source": [
    "assert isinstance(Q10(), int)"
   ]
  },
  {
   "cell_type": "code",
   "execution_count": null,
   "metadata": {},
   "outputs": [],
   "source": []
  }
 ],
 "metadata": {
  "hide_input": false,
  "kernelspec": {
   "display_name": "Python 3",
   "language": "python",
   "name": "python3"
  },
  "language_info": {
   "codemirror_mode": {
    "name": "ipython",
    "version": 3
   },
   "file_extension": ".py",
   "mimetype": "text/x-python",
   "name": "python",
   "nbconvert_exporter": "python",
   "pygments_lexer": "ipython3",
   "version": "3.6.8"
  },
  "toc": {
   "base_numbering": 1,
   "nav_menu": {},
   "number_sections": true,
   "sideBar": true,
   "skip_h1_title": false,
   "title_cell": "Table of Contents",
   "title_sidebar": "Contents",
   "toc_cell": false,
   "toc_position": {},
   "toc_section_display": true,
   "toc_window_display": false
  }
 },
 "nbformat": 4,
 "nbformat_minor": 2
}
